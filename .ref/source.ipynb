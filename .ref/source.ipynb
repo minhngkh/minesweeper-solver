{
 "cells": [
  {
   "cell_type": "code",
   "execution_count": 1,
   "id": "0c3d4e1f-8140-4d0f-87c0-20aad4339e14",
   "metadata": {
    "tags": []
   },
   "outputs": [],
   "source": [
    "import numpy as np\n",
    "\n",
    "with open(\"testcases/5x5/input_5x5.txt\", \"r\") as f:\n",
    "    data = []\n",
    "    for line in f:\n",
    "        row = [int(x) for x in line.strip().split(\",\")]\n",
    "        data.append(row)\n",
    "    Input = np.array(data)"
   ]
  },
  {
   "cell_type": "code",
   "execution_count": 2,
   "id": "4f5b4318-7b9d-46af-97de-d4e2f23c9ae4",
   "metadata": {
    "tags": []
   },
   "outputs": [
    {
     "name": "stdout",
     "output_type": "stream",
     "text": [
      "[[3 0 0 0 1]\n",
      " [0 0 2 0 0]\n",
      " [0 0 0 0 1]\n",
      " [3 0 0 0 2]\n",
      " [0 0 0 0 0]]\n"
     ]
    }
   ],
   "source": [
    "print(Input)"
   ]
  },
  {
   "cell_type": "code",
   "execution_count": 3,
   "id": "a07f13e8-2147-4b30-a09e-53318253072c",
   "metadata": {
    "tags": []
   },
   "outputs": [],
   "source": [
    "from itertools import combinations\n",
    "from pysat.solvers import Glucose3\n",
    "\n",
    "\n",
    "def solve_minesweeper(grid):\n",
    "    n = len(grid)\n",
    "    m = len(grid[0])\n",
    "    solver = Glucose3()\n",
    "\n",
    "    # Add clauses for each cell\n",
    "    for i in range(n):\n",
    "        for j in range(m):\n",
    "            if grid[i][j] != 0:\n",
    "                neighbors = []\n",
    "                for x in range(max(0, i - 1), min(n, i + 2)):\n",
    "                    for y in range(max(0, j - 1), min(m, j + 2)):\n",
    "                        if x != i or y != j:\n",
    "                            neighbors.append(x * m + y + 1)\n",
    "                # Encode atmost constraint as CNF clauses\n",
    "                for c in combinations(neighbors, grid[i][j] + 1):\n",
    "                    solver.add_clause([-x for x in c])\n",
    "                # Encode atleast constraint as CNF clauses\n",
    "                for c in combinations(neighbors, len(neighbors) - grid[i][j] + 1):\n",
    "                    solver.add_clause([x for x in c])\n",
    "\n",
    "    # Check if the problem is solvable\n",
    "    if not solver.solve():\n",
    "        return None\n",
    "\n",
    "    # Extract solution\n",
    "    model = solver.get_model()\n",
    "\n",
    "    # Debugging\n",
    "    # print(f\"n: {n}, m: {m}, len(model): {len(model)}\")\n",
    "    # print(model)\n",
    "    solution = [[0] * m for _ in range(n)]\n",
    "    for i in range(n):\n",
    "        for j in range(m):\n",
    "            try:\n",
    "                if model[(i * m + j)] > 0:\n",
    "                    solution[i][j] = 1\n",
    "            except IndexError:\n",
    "                pass\n",
    "    return solution"
   ]
  },
  {
   "cell_type": "code",
   "execution_count": 4,
   "id": "28c01e7e-b7de-445b-ae36-0d7d2c43f548",
   "metadata": {},
   "outputs": [
    {
     "name": "stdout",
     "output_type": "stream",
     "text": [
      "[[0 1 0 0 0]\n",
      " [1 1 0 0 1]\n",
      " [1 0 0 0 1]\n",
      " [0 1 0 0 0]\n",
      " [1 0 0 1 0]]\n"
     ]
    }
   ],
   "source": [
    "# Mine location\n",
    "solution = solve_minesweeper(Input)\n",
    "print(np.array(solution))"
   ]
  },
  {
   "cell_type": "code",
   "execution_count": 5,
   "id": "f6e1bb1a-34f5-4cd7-af78-a91c07d0631b",
   "metadata": {
    "tags": []
   },
   "outputs": [],
   "source": [
    "# Assign mine location = -1\n",
    "def output(Input, solution):\n",
    "    for i in range(len(Input)):\n",
    "        for j in range(len(Input[0])):\n",
    "            if solution[i][j] == 1:\n",
    "                Input[i][j] = -1\n",
    "    return Input"
   ]
  },
  {
   "cell_type": "code",
   "execution_count": 6,
   "id": "781d20bc-b43c-4992-8484-5dfe885fdd91",
   "metadata": {},
   "outputs": [],
   "source": [
    "def show_Matrix(A):\n",
    "    for i in range(len(A)):\n",
    "        for j in range(len(A[0])):\n",
    "            print(\"%s \" % A[i][j], end=\"\")\n",
    "        print()\n",
    "    print()"
   ]
  },
  {
   "cell_type": "code",
   "execution_count": 7,
   "id": "cb254682-4ab9-45da-a9ff-d006763da705",
   "metadata": {
    "tags": []
   },
   "outputs": [],
   "source": [
    "result = output(Input, solution)"
   ]
  },
  {
   "cell_type": "code",
   "execution_count": 8,
   "id": "ab127699-f9d1-405d-b6ce-58ae91df91da",
   "metadata": {
    "tags": []
   },
   "outputs": [
    {
     "name": "stdout",
     "output_type": "stream",
     "text": [
      "3 X 0 0 1 \n",
      "X X 2 0 X \n",
      "X 0 0 0 X \n",
      "3 X 0 0 2 \n",
      "X 0 0 X 0 \n",
      "\n"
     ]
    }
   ],
   "source": [
    "output = [[\"X\" if x == -1 else x for x in row] for row in result]\n",
    "show_Matrix(output)\n",
    "np.savetxt(\"output_20x20.txt\", output, delimiter=\",\", fmt=\"%s\")"
   ]
  },
  {
   "cell_type": "code",
   "execution_count": null,
   "id": "5055d244-13fa-4bec-a8e6-460718df0d94",
   "metadata": {},
   "outputs": [],
   "source": []
  }
 ],
 "metadata": {
  "kernelspec": {
   "display_name": "Python 3 (ipykernel)",
   "language": "python",
   "name": "python3"
  },
  "language_info": {
   "codemirror_mode": {
    "name": "ipython",
    "version": 3
   },
   "file_extension": ".py",
   "mimetype": "text/x-python",
   "name": "python",
   "nbconvert_exporter": "python",
   "pygments_lexer": "ipython3",
   "version": "3.10.6"
  }
 },
 "nbformat": 4,
 "nbformat_minor": 5
}
